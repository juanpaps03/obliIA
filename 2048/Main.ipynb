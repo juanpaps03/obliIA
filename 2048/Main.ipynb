{
 "cells": [
  {
   "cell_type": "code",
   "execution_count": 1,
   "metadata": {},
   "outputs": [],
   "source": [
    "from datetime import datetime\n",
    "from GameBoard import GameBoard\n",
    "from Agent import Agent\n",
    "from Minimax_Agent import MinimaxAgent\n",
    "import numpy as np\n"
   ]
  },
  {
   "cell_type": "code",
   "execution_count": 2,
   "metadata": {},
   "outputs": [],
   "source": [
    "def check_win(board: GameBoard):\n",
    "    return board.get_max_tile() >= 2048\n",
    "\n",
    "int_to_string = ['UP', 'DOWN', 'LEFT', 'RIGHT']"
   ]
  },
  {
   "cell_type": "code",
   "execution_count": 3,
   "metadata": {},
   "outputs": [],
   "source": [
    "def run_game(debug: bool = False):\n",
    "    agent: Agent = MinimaxAgent()\n",
    "    board: GameBoard = GameBoard()\n",
    "    \n",
    "    done = False\n",
    "    moves = 0\n",
    "    if debug:\n",
    "        #board.render()\n",
    "        start = datetime.now()\n",
    "    \n",
    "    while not done:        \n",
    "        action = agent.play(board)\n",
    "        done = board.play(action)\n",
    "        done = done or check_win(board)\n",
    "        moves += 1\n",
    "\n",
    "    if debug:\n",
    "        #board.render()\n",
    "        print(f\"Max tile: {board.get_max_tile()}\")\n",
    "        # print('\\nTotal time: {}'.format(datetime.now() - start))\n",
    "        # print('\\nTotal Moves: {}'.format(moves))\n",
    "        if check_win(board):\n",
    "            print(\"WON THE GAME!!!!!!!!\")\n",
    "        else:\n",
    "            print(\"BOOOOOOOOOO!!!!!!!!!\")\n",
    "    return check_win(board)\n"
   ]
  },
  {
   "attachments": {},
   "cell_type": "markdown",
   "metadata": {},
   "source": [
    "### Ejecucion del agente minimax con 20 juegos, heuristic_weight_board, poda a los 6 niveles del arbol y considerando 5 casillas libres"
   ]
  },
  {
   "cell_type": "code",
   "execution_count": 7,
   "metadata": {},
   "outputs": [
    {
     "name": "stdout",
     "output_type": "stream",
     "text": [
      "El winrate obtenido con 20 ejecuciones es de: 25.0\n"
     ]
    }
   ],
   "source": [
    "# Run multiple games to get a winrate\n",
    "\n",
    "winrate = 0\n",
    "count = 0\n",
    "games = 20\n",
    "for i in range(games):\n",
    "    won = run_game()\n",
    "    count += 1\n",
    "    winrate += 1 if won else 0\n",
    "\n",
    "print(f\"El winrate obtenido con {count} ejecuciones es de: {(winrate*100)/games}\")\n"
   ]
  },
  {
   "attachments": {},
   "cell_type": "markdown",
   "metadata": {},
   "source": [
    "### Ejecucion del agente minimax con 10 juegos, heuristic_weight_board, poda a los 5 niveles del arbol y considerando 7 casillas libres randomicamente, tambien se hicieron cambios en la WEIGHT_MATRIX"
   ]
  },
  {
   "cell_type": "code",
   "execution_count": 4,
   "metadata": {},
   "outputs": [
    {
     "name": "stdout",
     "output_type": "stream",
     "text": [
      "Max tile: 2048.0\n",
      "WON THE GAME!!!!!!!!\n",
      "Max tile: 1024.0\n",
      "BOOOOOOOOOO!!!!!!!!!\n",
      "Max tile: 2048.0\n",
      "WON THE GAME!!!!!!!!\n",
      "Max tile: 2048.0\n",
      "WON THE GAME!!!!!!!!\n",
      "Max tile: 1024.0\n",
      "BOOOOOOOOOO!!!!!!!!!\n",
      "El winrate obtenido con 5 ejecuciones es de: 60.0\n"
     ]
    }
   ],
   "source": [
    "# Run multiple games to get a winrate\n",
    "\n",
    "winrate = 0\n",
    "count = 0\n",
    "games = 5\n",
    "for i in range(games):\n",
    "    won = run_game(True)\n",
    "    count += 1\n",
    "    winrate += 1 if won else 0\n",
    "    #print(f\"van {count} juegos, se ganaron {winrate} y se perdieron {count - winrate}\")\n",
    "\n",
    "print(f\"El winrate obtenido con {count} ejecuciones es de: {(winrate*100)/games}\")\n"
   ]
  }
 ],
 "metadata": {
  "kernelspec": {
   "display_name": "Python 3.10.8 ('jupyter-env-X9eyKUcs-py3.10')",
   "language": "python",
   "name": "python3"
  },
  "language_info": {
   "codemirror_mode": {
    "name": "ipython",
    "version": 3
   },
   "file_extension": ".py",
   "mimetype": "text/x-python",
   "name": "python",
   "nbconvert_exporter": "python",
   "pygments_lexer": "ipython3",
   "version": "3.10.8"
  },
  "orig_nbformat": 4,
  "vscode": {
   "interpreter": {
    "hash": "512a0b8aaaf0af7044eedcee14838a5d4f746d56b314969637af5cee22079375"
   }
  }
 },
 "nbformat": 4,
 "nbformat_minor": 2
}
