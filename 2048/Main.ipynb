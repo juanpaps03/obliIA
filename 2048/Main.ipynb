{
 "cells": [
  {
   "cell_type": "code",
   "execution_count": 7,
   "metadata": {},
   "outputs": [],
   "source": [
    "from datetime import datetime\n",
    "from GameBoard import GameBoard\n",
    "from Agent import Agent\n",
    "from Minimax_Agent import MinimaxAgent\n"
   ]
  },
  {
   "cell_type": "code",
   "execution_count": 8,
   "metadata": {},
   "outputs": [],
   "source": [
    "def check_win(board: GameBoard):\n",
    "    return board.get_max_tile() >= 2048\n",
    "\n",
    "int_to_string = ['UP', 'DOWN', 'LEFT', 'RIGHT']"
   ]
  },
  {
   "cell_type": "code",
   "execution_count": 13,
   "metadata": {},
   "outputs": [
    {
     "name": "stdout",
     "output_type": "stream",
     "text": [
      "     0       0       0       0  \n",
      "     0       0       0       0  \n",
      "     2       0       0       2  \n",
      "     0       0       0       0  \n",
      "\n",
      "     2       8      32       8  \n",
      "    16     128      16       2  \n",
      "     2      64       8       4  \n",
      "     4       8      16       2  \n",
      "\n",
      "Max tile: 128.0\n",
      "\n",
      "Total time: 0:00:02.039950\n",
      "\n",
      "Total Moves: 144\n",
      "BOOOOOOOOOO!!!!!!!!!\n"
     ]
    }
   ],
   "source": [
    "agent: Agent = MinimaxAgent()\n",
    "board: GameBoard = GameBoard()\n",
    "\n",
    "done = False\n",
    "moves = 0\n",
    "board.render()\n",
    "start = datetime.now()\n",
    "while not done:\n",
    "    action = agent.play(board)\n",
    "    done = board.play(action)\n",
    "    done = done or check_win(board)\n",
    "    moves += 1\n",
    "\n",
    "\n",
    "board.render()\n",
    "print(f\"Max tile: {board.get_max_tile()}\")\n",
    "print('\\nTotal time: {}'.format(datetime.now() - start))\n",
    "print('\\nTotal Moves: {}'.format(moves))\n",
    "if check_win(board):\n",
    "    print(\"WON THE GAME!!!!!!!!\")\n",
    "else:\n",
    "    print(\"BOOOOOOOOOO!!!!!!!!!\")\n"
   ]
  }
 ],
 "metadata": {
  "kernelspec": {
   "display_name": "Python 3.10.8 ('jupyter-env-X9eyKUcs-py3.10')",
   "language": "python",
   "name": "python3"
  },
  "language_info": {
   "codemirror_mode": {
    "name": "ipython",
    "version": 3
   },
   "file_extension": ".py",
   "mimetype": "text/x-python",
   "name": "python",
   "nbconvert_exporter": "python",
   "pygments_lexer": "ipython3",
   "version": "3.10.8"
  },
  "orig_nbformat": 4,
  "vscode": {
   "interpreter": {
    "hash": "512a0b8aaaf0af7044eedcee14838a5d4f746d56b314969637af5cee22079375"
   }
  }
 },
 "nbformat": 4,
 "nbformat_minor": 2
}
