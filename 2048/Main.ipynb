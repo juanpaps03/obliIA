{
 "cells": [
  {
   "cell_type": "code",
   "execution_count": null,
   "metadata": {},
   "outputs": [],
   "source": [
    "from datetime import datetime\n",
    "from GameBoard import GameBoard\n",
    "from Agent import Agent\n",
    "from Random_Agent import RandomAgent"
   ]
  },
  {
   "cell_type": "code",
   "execution_count": null,
   "metadata": {},
   "outputs": [],
   "source": [
    "def check_win(board: GameBoard):\n",
    "    return board.get_max_tile() >= 2048\n",
    "\n",
    "\n",
    "int_to_string = ['UP', 'DOWN', 'LEFT', 'RIGHT']"
   ]
  },
  {
   "cell_type": "code",
   "execution_count": null,
   "metadata": {},
   "outputs": [],
   "source": [
    "agent: Agent\n",
    "board: GameBoard\n",
    "agent = RandomAgent()\n",
    "board = GameBoard()\n",
    "done = False\n",
    "moves = 0\n",
    "board.render()\n",
    "start = datetime.now()\n",
    "while not done:\n",
    "    action = agent.play(board)\n",
    "    print('Next Action: \"{}\"'.format(\n",
    "        int_to_string[action]), ',   Move: {}'.format(moves))\n",
    "    done = board.play(action)\n",
    "    done = done or check_win(board)\n",
    "    board.render()\n",
    "    moves += 1\n",
    "\n",
    "print('\\nTotal time: {}'.format(datetime.now() - start))\n",
    "print('\\nTotal Moves: {}'.format(moves))\n",
    "if check_win(board):\n",
    "    print(\"WON THE GAME!!!!!!!!\")\n",
    "else:\n",
    "    print(\"BOOOOOOOOOO!!!!!!!!!\")\n"
   ]
  }
 ],
 "metadata": {
  "interpreter": {
   "hash": "c7197cab2cc12ea700c33e0ebaa268301363e47b85f3a7a02bbdaaef88dd4f9b"
  },
  "kernelspec": {
   "display_name": "Python 3.10.4 ('.venv': poetry)",
   "language": "python",
   "name": "python3"
  },
  "language_info": {
   "name": "python",
   "version": "3.10.4"
  },
  "orig_nbformat": 4
 },
 "nbformat": 4,
 "nbformat_minor": 2
}
