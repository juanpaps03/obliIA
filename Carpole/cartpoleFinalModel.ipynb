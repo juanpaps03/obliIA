{
 "cells": [
  {
   "attachments": {},
   "cell_type": "markdown",
   "metadata": {},
   "source": [
    "## Imports"
   ]
  },
  {
   "cell_type": "code",
   "execution_count": 1,
   "metadata": {},
   "outputs": [],
   "source": [
    "import os\n",
    "import numpy as np\n",
    "import time\n",
    "import gym"
   ]
  },
  {
   "attachments": {},
   "cell_type": "markdown",
   "metadata": {},
   "source": [
    "## Carga del modelo construido desde el archivo .npy"
   ]
  },
  {
   "cell_type": "code",
   "execution_count": 2,
   "metadata": {},
   "outputs": [
    {
     "data": {
      "text/plain": [
       "(5, 4, 9, 6, 2)"
      ]
     },
     "execution_count": 2,
     "metadata": {},
     "output_type": "execute_result"
    }
   ],
   "source": [
    "if os.path.exists('TrainedQ.npy'):\n",
    "    trainedQ = np.load('TrainedQ.npy')\n",
    "trainedQ.shape"
   ]
  },
  {
   "attachments": {},
   "cell_type": "markdown",
   "metadata": {},
   "source": [
    "## Pruebas sobre el modelo entrenado."
   ]
  },
  {
   "attachments": {},
   "cell_type": "markdown",
   "metadata": {},
   "source": [
    "### Contenedores utilizados para discretizar"
   ]
  },
  {
   "cell_type": "code",
   "execution_count": 3,
   "metadata": {},
   "outputs": [],
   "source": [
    "cart_position_bins = np.linspace(-2.4, 2.4, 4)\n",
    "cart_acc_bins = np.linspace(-100, 100, 3)\n",
    "pole_angle_bins = np.linspace(-.2,.2, 8)\n",
    "angular_acc_bins = np.linspace(-5000, 5000, 5)"
   ]
  },
  {
   "cell_type": "code",
   "execution_count": 4,
   "metadata": {},
   "outputs": [],
   "source": [
    "def get_state(obs):\n",
    "    cart_pos = np.digitize(obs[0], cart_position_bins)\n",
    "    cart_acc = np.digitize(obs[1], cart_acc_bins)\n",
    "    pole_ang = np.digitize(obs[2], pole_angle_bins)\n",
    "    ang_acc = np.digitize(obs[3], angular_acc_bins)\n",
    "    state = tuple([cart_pos, cart_acc, pole_ang, ang_acc])\n",
    "    return state"
   ]
  },
  {
   "attachments": {},
   "cell_type": "markdown",
   "metadata": {},
   "source": [
    "### Resultado promedio de recompensas de la ejecucion del modelo entrenado en 100 episodios"
   ]
  },
  {
   "cell_type": "code",
   "execution_count": 5,
   "metadata": {},
   "outputs": [],
   "source": [
    "def optimal_policy(state, Q):\n",
    "    action = np.argmax(Q[state])\n",
    "    return action"
   ]
  },
  {
   "cell_type": "code",
   "execution_count": 26,
   "metadata": {},
   "outputs": [],
   "source": [
    "env = gym.make('CartPole-v1', new_step_api=True)\n",
    "tries = 1000\n",
    "rewards = np.zeros(tries)\n",
    "for i in range(tries):\n",
    "    episode_reward= 0\n",
    "    obs = env.reset(seed = i)\n",
    "    done = False\n",
    "    while not done:\n",
    "        state = get_state(obs)\n",
    "        action = optimal_policy(state, trainedQ)\n",
    "        obs, reward, termination, truncation, info = env.step(action)\n",
    "        done = termination or truncation\n",
    "        episode_reward += reward\n",
    "    rewards[i] = episode_reward\n",
    "env.close()"
   ]
  },
  {
   "cell_type": "code",
   "execution_count": 35,
   "metadata": {},
   "outputs": [
    {
     "name": "stdout",
     "output_type": "stream",
     "text": [
      "Porcentaje de éxito (recompensas de 500):  99.0 %\n",
      "Recompensa promedio:  498.356\n",
      "Peor recompensa:  268.0\n",
      "Semilla del peor resultado:  165\n",
      "Elementos que no llegaron a 500:  10\n"
     ]
    }
   ],
   "source": [
    "print('Porcentaje de éxito (recompensas de 500): ', (np.count_nonzero(rewards == 500)/tries) * 100, '%')\n",
    "print(\"Recompensa promedio: \", np.mean(rewards))\n",
    "print('Peor recompensa: ', np.min(rewards))\n",
    "print('Semilla del peor resultado: ', np.argmin(rewards))\n",
    "print('Elementos que no llegaron a 500: ', np.count_nonzero(rewards != 500))"
   ]
  },
  {
   "cell_type": "code",
   "execution_count": 9,
   "metadata": {},
   "outputs": [],
   "source": [
    "def plot(x,y, x_text, y_text, title):\n",
    "    import matplotlib.pyplot as plt\n",
    "    scatter = plt.scatter(x, y, color =\"green\", s = 10)\n",
    "    plt.title(title)\n",
    "    plt.xlabel(x_text)\n",
    "    plt.ylabel(y_text)\n",
    "    plt.scatter(x, y, color =\"green\", s = 10)\n",
    "    plt.show()"
   ]
  },
  {
   "cell_type": "code",
   "execution_count": 17,
   "metadata": {},
   "outputs": [
    {
     "data": {
      "image/png": "[encoded data removed]",
      "text/plain": [
       "<Figure size 640x480 with 1 Axes>"
      ]
     },
     "metadata": {},
     "output_type": "display_data"
    }
   ],
   "source": [
    "plot(range(tries), rewards, \"Episodio\", \"Recompensas(max 500)\", \"Recompensas por episodio\")"
   ]
  },
  {
   "attachments": {},
   "cell_type": "markdown",
   "metadata": {},
   "source": [
    "## Visualización de una corrida con la policy optima obtenida con renderizado en modo humano"
   ]
  },
  {
   "cell_type": "code",
   "execution_count": 33,
   "metadata": {},
   "outputs": [],
   "source": [
    "best_seed = np.argmax(rewards).item()\n",
    "worst_seed = np.argmin(rewards).item()\n",
    "#Cambiar esta variable para ver el mejor o peor resultado\n",
    "isBestRun = True"
   ]
  },
  {
   "cell_type": "code",
   "execution_count": 34,
   "metadata": {},
   "outputs": [
    {
     "name": "stdout",
     "output_type": "stream",
     "text": [
      "Reward:  500.0\n"
     ]
    }
   ],
   "source": [
    "env = gym.make('CartPole-v1', render_mode='human', new_step_api=True)\n",
    "episode_reward = 0\n",
    "if isBestRun:\n",
    "    obs = env.reset(seed = best_seed)\n",
    "else:\n",
    "    obs = env.reset(seed = worst_seed)\n",
    "done = False\n",
    "while not done:\n",
    "    state = get_state(obs)\n",
    "    action = optimal_policy(state, trainedQ)\n",
    "    obs, reward, termination, truncation, info = env.step(action)\n",
    "    done = termination or truncation\n",
    "    episode_reward += reward\n",
    "env.close()\n",
    "print('Reward: ', episode_reward)"
   ]
  }
 ],
 "metadata": {
  "kernelspec": {
   "display_name": "gym",
   "language": "python",
   "name": "python3"
  },
  "language_info": {
   "codemirror_mode": {
    "name": "ipython",
    "version": 3
   },
   "file_extension": ".py",
   "mimetype": "text/x-python",
   "name": "python",
   "nbconvert_exporter": "python",
   "pygments_lexer": "ipython3",
   "version": "3.10.8"
  },
  "orig_nbformat": 4,
  "vscode": {
   "interpreter": {
    "hash": "287bffd5c227edae0a833da74c9e64d677e3d2a7622abfe7074e89f36b406f10"
   }
  }
 },
 "nbformat": 4,
 "nbformat_minor": 2
}
