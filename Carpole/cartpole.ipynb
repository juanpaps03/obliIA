{
 "cells": [
  {
   "cell_type": "code",
   "execution_count": null,
   "id": "9f1c3938",
   "metadata": {},
   "outputs": [],
   "source": [
    "#!pip install gym\n",
    "#!pip install pygame"
   ]
  },
  {
   "cell_type": "code",
   "execution_count": null,
   "id": "e4231adb",
   "metadata": {},
   "outputs": [],
   "source": [
    "import gym\n",
    "import numpy as np"
   ]
  },
  {
   "cell_type": "code",
   "execution_count": null,
   "id": "a39e4569",
   "metadata": {},
   "outputs": [],
   "source": [
    "env = gym.make('CartPole-v1', render_mode='human')"
   ]
  },
  {
   "cell_type": "code",
   "execution_count": null,
   "id": "4a591fcb",
   "metadata": {},
   "outputs": [],
   "source": [
    "def epsilon_greedy_policy(state, Q, epsilon=0.1):\n",
    "    explore = np.random.binomial(1, epsilon)\n",
    "    if explore:\n",
    "        action = env.action_space.sample()\n",
    "        print('explore')\n",
    "    else:\n",
    "        action = np.argmax(Q[state])\n",
    "        print('exploit')\n",
    "    return action"
   ]
  },
  {
   "cell_type": "code",
   "execution_count": null,
   "id": "92a08789",
   "metadata": {},
   "outputs": [],
   "source": [
    "def optimal_policy(state, Q):\n",
    "    action = np.argmax(Q[state])\n",
    "    return action"
   ]
  },
  {
   "cell_type": "code",
   "execution_count": null,
   "id": "00564955",
   "metadata": {},
   "outputs": [],
   "source": [
    "bins = np.linspace(-0.000001, 100., 2)\n",
    "bins"
   ]
  },
  {
   "cell_type": "code",
   "execution_count": null,
   "id": "345c50b5",
   "metadata": {},
   "outputs": [],
   "source": [
    "def get_state(obs):\n",
    "    d = np.digitize(obs, bins)\n",
    "    state = tuple(d)\n",
    "    return state"
   ]
  },
  {
   "cell_type": "code",
   "execution_count": null,
   "id": "17e0564c",
   "metadata": {},
   "outputs": [],
   "source": [
    "state = get_state(np.array([-1.4, -2., 0.23, 1.2]))\n",
    "state"
   ]
  },
  {
   "cell_type": "code",
   "execution_count": null,
   "id": "9ea75fdc",
   "metadata": {},
   "outputs": [],
   "source": [
    "Q = np.random.random((2,2,2,2,2))\n",
    "Q"
   ]
  },
  {
   "cell_type": "code",
   "execution_count": null,
   "id": "5ffb00ba",
   "metadata": {},
   "outputs": [],
   "source": [
    "obs, _ = env.reset()\n",
    "print(obs)\n",
    "done = False\n",
    "while not done:\n",
    "    state = get_state(obs)\n",
    "    action = epsilon_greedy_policy(state, Q, 0.5)\n",
    "    obs, reward, done, info, _ = env.step(action)\n",
    "    print('->', state, action, reward, obs, done, info)\n",
    "# env.close()"
   ]
  },
  {
   "cell_type": "code",
   "execution_count": null,
   "id": "c1b033ba",
   "metadata": {},
   "outputs": [],
   "source": [
    "\n"
   ]
  }
 ],
 "metadata": {
  "kernelspec": {
   "display_name": "Python 3.10.8 ('.venv': poetry)",
   "language": "python",
   "name": "python3"
  },
  "language_info": {
   "codemirror_mode": {
    "name": "ipython",
    "version": 3
   },
   "file_extension": ".py",
   "mimetype": "text/x-python",
   "name": "python",
   "nbconvert_exporter": "python",
   "pygments_lexer": "ipython3",
   "version": "3.10.8"
  },
  "vscode": {
   "interpreter": {
    "hash": "ea51eab9f9f6e6be62ba796280d46b2037c0331f6513bc8fa5a97d9c11036a4f"
   }
  }
 },
 "nbformat": 4,
 "nbformat_minor": 5
}
