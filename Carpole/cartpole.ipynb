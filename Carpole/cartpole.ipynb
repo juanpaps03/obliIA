{
 "cells": [
  {
   "cell_type": "code",
   "execution_count": 1,
   "id": "9f1c3938",
   "metadata": {},
   "outputs": [],
   "source": [
    "#!pip install gym\n",
    "#!pip install pygame"
   ]
  },
  {
   "cell_type": "code",
   "execution_count": 2,
   "id": "e4231adb",
   "metadata": {},
   "outputs": [],
   "source": [
    "import gym\n",
    "import numpy as np"
   ]
  },
  {
   "cell_type": "code",
   "execution_count": 3,
   "id": "a39e4569",
   "metadata": {},
   "outputs": [],
   "source": [
    "env = gym.make('CartPole-v1', render_mode='human', new_step_api=True)"
   ]
  },
  {
   "cell_type": "code",
   "execution_count": 4,
   "id": "4a591fcb",
   "metadata": {},
   "outputs": [],
   "source": [
    "def epsilon_greedy_policy(state, Q, epsilon=0.1):\n",
    "    explore = np.random.binomial(1, epsilon)\n",
    "    if explore:\n",
    "        action = env.action_space.sample()\n",
    "        print('explore')\n",
    "    else:\n",
    "        action = np.argmax(Q[state])\n",
    "        print('exploit')\n",
    "    return action"
   ]
  },
  {
   "cell_type": "code",
   "execution_count": 5,
   "id": "ac5a5bfc",
   "metadata": {},
   "outputs": [],
   "source": [
    "def q_learning(state, Q, epsilon=0.1):\n",
    "    '''\n",
    "    Inicializar Q(s, a) arbitrariamente ∀s ∈ S, a ∈ A(s)\n",
    "    Repetir:\n",
    "        Inicializar s\n",
    "        done ← False\n",
    "        Repetir hasta done:\n",
    "            Con probabilidad ε hacer: (* estrategia ε-greedy *)\n",
    "                explore: a ← sample(A(s))\n",
    "                exploit: a ← arg m ́ax Q(s, ·)\n",
    "            s′, r , done ← step(a)\n",
    "            Q(s, a) ← Q(s, a) + α(r + γ max Q(s′, ·) − Q(s, a))\n",
    "            s ← s′\n",
    "    '''\n",
    "    \n",
    "    done = False\n",
    "    while not done:\n",
    "        action = epsilon_greedy_policy(state, Q, epsilon)\n",
    "        obs, reward, done, info, _ = env.step(action)\n",
    "        Q"
   ]
  },
  {
   "cell_type": "code",
   "execution_count": 6,
   "id": "92a08789",
   "metadata": {},
   "outputs": [],
   "source": [
    "def optimal_policy(state, Q):\n",
    "    action = np.argmax(Q[state])\n",
    "    return action"
   ]
  },
  {
   "cell_type": "code",
   "execution_count": 7,
   "id": "00564955",
   "metadata": {},
   "outputs": [
    {
     "data": {
      "text/plain": [
       "array([-1.e-06,  1.e+02])"
      ]
     },
     "execution_count": 7,
     "metadata": {},
     "output_type": "execute_result"
    }
   ],
   "source": [
    "bins = np.linspace(-0.000001, 100., 2)\n",
    "bins"
   ]
  },
  {
   "cell_type": "code",
   "execution_count": 8,
   "id": "345c50b5",
   "metadata": {},
   "outputs": [],
   "source": [
    "def get_state(obs):\n",
    "    d = np.digitize(obs, bins)\n",
    "    state = tuple(d)\n",
    "    return state"
   ]
  },
  {
   "cell_type": "code",
   "execution_count": 9,
   "id": "17e0564c",
   "metadata": {},
   "outputs": [
    {
     "data": {
      "text/plain": [
       "(0, 0, 1, 1)"
      ]
     },
     "execution_count": 9,
     "metadata": {},
     "output_type": "execute_result"
    }
   ],
   "source": [
    "state = get_state(np.array([-1.4, -2., 0.23, 1.2]))\n",
    "state"
   ]
  },
  {
   "cell_type": "code",
   "execution_count": 10,
   "id": "9ea75fdc",
   "metadata": {},
   "outputs": [
    {
     "data": {
      "text/plain": [
       "array([[[[[0.0609531 , 0.12940894],\n",
       "          [0.97848808, 0.47370207]],\n",
       "\n",
       "         [[0.99031082, 0.13319581],\n",
       "          [0.38238955, 0.48738757]]],\n",
       "\n",
       "\n",
       "        [[[0.29236919, 0.28220496],\n",
       "          [0.44537984, 0.97694098]],\n",
       "\n",
       "         [[0.66597042, 0.10600376],\n",
       "          [0.31903103, 0.21593529]]]],\n",
       "\n",
       "\n",
       "\n",
       "       [[[[0.19302581, 0.24601327],\n",
       "          [0.24023452, 0.47183272]],\n",
       "\n",
       "         [[0.49591997, 0.42115207],\n",
       "          [0.23287445, 0.13396688]]],\n",
       "\n",
       "\n",
       "        [[[0.1665551 , 0.21453539],\n",
       "          [0.26411405, 0.12136745]],\n",
       "\n",
       "         [[0.68144823, 0.16184743],\n",
       "          [0.51716612, 0.95799866]]]]])"
      ]
     },
     "execution_count": 10,
     "metadata": {},
     "output_type": "execute_result"
    }
   ],
   "source": [
    "Q = np.random.random((2,2,2,2,2))\n",
    "Q"
   ]
  },
  {
   "cell_type": "code",
   "execution_count": 11,
   "id": "5ffb00ba",
   "metadata": {},
   "outputs": [
    {
     "name": "stdout",
     "output_type": "stream",
     "text": [
      "[ 0.03211415  0.00114949 -0.02842947  0.01297775]\n",
      "exploit\n",
      "-> (1, 1, 0, 1) 0 1.0 [ 0.03213714 -0.19355345 -0.02816992  0.296557  ] False False\n",
      "explore\n",
      "-> (1, 0, 0, 1) 1 1.0 [ 0.02826607  0.00195852 -0.02223878 -0.00487545] False False\n",
      "exploit\n",
      "-> (1, 1, 0, 0) 1 1.0 [ 0.02830524  0.19739223 -0.02233629 -0.3044912 ] False False\n",
      "exploit\n",
      "-> (1, 1, 0, 0) 1 1.0 [ 0.03225309  0.39282525 -0.02842611 -0.6041339 ] False False\n",
      "exploit\n",
      "-> (1, 1, 0, 0) 1 1.0 [ 0.04010959  0.588333   -0.04050879 -0.9056332 ] False False\n",
      "explore\n",
      "-> (1, 1, 0, 0) 0 1.0 [ 0.05187625  0.3937823  -0.05862145 -0.6259529 ] False False\n",
      "exploit\n",
      "-> (1, 1, 0, 0) 1 1.0 [ 0.0597519   0.58967143 -0.07114051 -0.93650675] False False\n",
      "explore\n",
      "-> (1, 1, 0, 0) 1 1.0 [ 0.07154533  0.78567696 -0.08987065 -1.250669  ] False False\n",
      "explore\n",
      "-> (1, 1, 0, 0) 1 1.0 [ 0.08725887  0.9818283  -0.11488403 -1.570095  ] False False\n",
      "exploit\n",
      "-> (1, 1, 0, 0) 1 1.0 [ 0.10689543  1.178119   -0.14628592 -1.8962917 ] False False\n",
      "exploit\n",
      "-> (1, 1, 0, 0) 1 1.0 [ 0.1304578   1.3744924  -0.18421176 -2.2305605 ] False False\n",
      "explore\n",
      "-> (1, 1, 0, 0) 0 1.0 [ 0.15794766  1.1815375  -0.22882298 -1.9998777 ] True False\n"
     ]
    }
   ],
   "source": [
    "obs = env.reset()\n",
    "print(obs)\n",
    "done = False\n",
    "while not done:\n",
    "    state = get_state(obs)\n",
    "    action = epsilon_greedy_policy(state, Q, 0.5)\n",
    "    obs, reward, done, info, _ = env.step(action)\n",
    "    print('->', state, action, reward, obs, done, info)\n",
    "env.close()"
   ]
  },
  {
   "cell_type": "code",
   "execution_count": null,
   "id": "c1b033ba",
   "metadata": {},
   "outputs": [],
   "source": [
    "\n"
   ]
  }
 ],
 "metadata": {
  "kernelspec": {
   "display_name": "gym",
   "language": "python",
   "name": "python3"
  },
  "language_info": {
   "codemirror_mode": {
    "name": "ipython",
    "version": 3
   },
   "file_extension": ".py",
   "mimetype": "text/x-python",
   "name": "python",
   "nbconvert_exporter": "python",
   "pygments_lexer": "ipython3",
   "version": "3.10.8"
  },
  "vscode": {
   "interpreter": {
    "hash": "287bffd5c227edae0a833da74c9e64d677e3d2a7622abfe7074e89f36b406f10"
   }
  }
 },
 "nbformat": 4,
 "nbformat_minor": 5
}
