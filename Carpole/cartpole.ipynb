{
 "cells": [
  {
   "cell_type": "code",
   "execution_count": 1,
   "id": "9f1c3938",
   "metadata": {},
   "outputs": [],
   "source": [
    "#!pip install gym\n",
    "#!pip install pygame"
   ]
  },
  {
   "cell_type": "code",
   "execution_count": 2,
   "id": "e4231adb",
   "metadata": {},
   "outputs": [],
   "source": [
    "import gym\n",
    "import numpy as np"
   ]
  },
  {
   "cell_type": "code",
   "execution_count": 3,
   "id": "a39e4569",
   "metadata": {},
   "outputs": [
    {
     "name": "stderr",
     "output_type": "stream",
     "text": [
      "/Users/juanpaps03/Library/Caches/pypoetry/virtualenvs/jupyter-env-X9eyKUcs-py3.10/lib/python3.10/site-packages/gym/core.py:317: DeprecationWarning: \u001b[33mWARN: Initializing wrapper in old step API which returns one bool instead of two. It is recommended to set `new_step_api=True` to use new step API. This will be the default behaviour in future.\u001b[0m\n",
      "  deprecation(\n",
      "/Users/juanpaps03/Library/Caches/pypoetry/virtualenvs/jupyter-env-X9eyKUcs-py3.10/lib/python3.10/site-packages/gym/wrappers/step_api_compatibility.py:39: DeprecationWarning: \u001b[33mWARN: Initializing environment in old step API which returns one bool instead of two. It is recommended to set `new_step_api=True` to use new step API. This will be the default behaviour in future.\u001b[0m\n",
      "  deprecation(\n"
     ]
    }
   ],
   "source": [
    "env = gym.make('CartPole-v1', render_mode='human')"
   ]
  },
  {
   "cell_type": "code",
   "execution_count": 4,
   "id": "4a591fcb",
   "metadata": {},
   "outputs": [],
   "source": [
    "def epsilon_greedy_policy(state, Q, epsilon=0.1):\n",
    "    explore = np.random.binomial(1, epsilon)\n",
    "    if explore:\n",
    "        action = env.action_space.sample()\n",
    "        print('explore')\n",
    "    else:\n",
    "        action = np.argmax(Q[state])\n",
    "        print('exploit')\n",
    "    return action"
   ]
  },
  {
   "cell_type": "code",
   "execution_count": null,
   "id": "ac5a5bfc",
   "metadata": {},
   "outputs": [],
   "source": [
    "def q_learning(state, Q, epsilon=0.1):\n",
    "    '''\n",
    "    Inicializar Q(s, a) arbitrariamente ∀s ∈ S, a ∈ A(s)\n",
    "    Repetir:\n",
    "        Inicializar s\n",
    "        done ← False\n",
    "        Repetir hasta done:\n",
    "            Con probabilidad ε hacer: (* estrategia ε-greedy *)\n",
    "                explore: a ← sample(A(s))\n",
    "                exploit: a ← arg m ́ax Q(s, ·)\n",
    "            s′, r , done ← step(a)\n",
    "            Q(s, a) ← Q(s, a) + α(r + γ max Q(s′, ·) − Q(s, a))\n",
    "            s ← s′\n",
    "    '''\n",
    "    \n",
    "    done = False\n",
    "    while not done:\n",
    "        action = epsilon_greedy_policy(state, Q, epsilon)\n",
    "        obs, reward, done, info = env.step(action)\n",
    "        Q"
   ]
  },
  {
   "cell_type": "code",
   "execution_count": 5,
   "id": "92a08789",
   "metadata": {},
   "outputs": [],
   "source": [
    "def optimal_policy(state, Q):\n",
    "    action = np.argmax(Q[state])\n",
    "    return action"
   ]
  },
  {
   "cell_type": "code",
   "execution_count": 6,
   "id": "00564955",
   "metadata": {},
   "outputs": [
    {
     "data": {
      "text/plain": [
       "array([-1.e-06,  1.e+02])"
      ]
     },
     "execution_count": 6,
     "metadata": {},
     "output_type": "execute_result"
    }
   ],
   "source": [
    "bins = np.linspace(-0.000001, 100., 2)\n",
    "bins"
   ]
  },
  {
   "cell_type": "code",
   "execution_count": 7,
   "id": "345c50b5",
   "metadata": {},
   "outputs": [],
   "source": [
    "def get_state(obs):\n",
    "    d = np.digitize(obs, bins)\n",
    "    state = tuple(d)\n",
    "    return state"
   ]
  },
  {
   "cell_type": "code",
   "execution_count": 8,
   "id": "17e0564c",
   "metadata": {},
   "outputs": [
    {
     "data": {
      "text/plain": [
       "(0, 0, 1, 1)"
      ]
     },
     "execution_count": 8,
     "metadata": {},
     "output_type": "execute_result"
    }
   ],
   "source": [
    "state = get_state(np.array([-1.4, -2., 0.23, 1.2]))\n",
    "state"
   ]
  },
  {
   "cell_type": "code",
   "execution_count": 3,
   "id": "9ea75fdc",
   "metadata": {},
   "outputs": [
    {
     "ename": "KeyboardInterrupt",
     "evalue": "",
     "output_type": "error",
     "traceback": [
      "\u001b[0;31m---------------------------------------------------------------------------\u001b[0m",
      "\u001b[0;31mKeyError\u001b[0m                                  Traceback (most recent call last)",
      "File \u001b[0;32m~/Library/Caches/pypoetry/virtualenvs/jupyter-env-X9eyKUcs-py3.10/lib/python3.10/site-packages/traitlets/traitlets.py:645\u001b[0m, in \u001b[0;36mTraitType.get\u001b[0;34m(self, obj, cls)\u001b[0m\n\u001b[1;32m    644\u001b[0m \u001b[39mtry\u001b[39;00m:\n\u001b[0;32m--> 645\u001b[0m     value \u001b[39m=\u001b[39m obj\u001b[39m.\u001b[39;49m_trait_values[\u001b[39mself\u001b[39;49m\u001b[39m.\u001b[39;49mname]\n\u001b[1;32m    646\u001b[0m \u001b[39mexcept\u001b[39;00m \u001b[39mKeyError\u001b[39;00m:\n\u001b[1;32m    647\u001b[0m     \u001b[39m# Check for a dynamic initializer.\u001b[39;00m\n",
      "\u001b[0;31mKeyError\u001b[0m: 'ipython_display_formatter'",
      "\nDuring handling of the above exception, another exception occurred:\n",
      "\u001b[0;31mKeyboardInterrupt\u001b[0m                         Traceback (most recent call last)",
      "\u001b[1;32m/Users/juanpaps03/Documents/ORT/IA/jupyter-env/Obligatorio/Carpole/cartpole.ipynb Celda 10\u001b[0m in \u001b[0;36m<cell line: 3>\u001b[0;34m()\u001b[0m\n\u001b[1;32m      <a href='vscode-notebook-cell:/Users/juanpaps03/Documents/ORT/IA/jupyter-env/Obligatorio/Carpole/cartpole.ipynb#X11sZmlsZQ%3D%3D?line=0'>1</a>\u001b[0m \u001b[39mimport\u001b[39;00m \u001b[39mnumpy\u001b[39;00m \u001b[39mas\u001b[39;00m \u001b[39mnp\u001b[39;00m\n\u001b[1;32m      <a href='vscode-notebook-cell:/Users/juanpaps03/Documents/ORT/IA/jupyter-env/Obligatorio/Carpole/cartpole.ipynb#X11sZmlsZQ%3D%3D?line=1'>2</a>\u001b[0m Q \u001b[39m=\u001b[39m np\u001b[39m.\u001b[39mrandom\u001b[39m.\u001b[39mrandom((\u001b[39m2\u001b[39m,\u001b[39m2\u001b[39m,\u001b[39m2\u001b[39m,\u001b[39m2\u001b[39m,\u001b[39m2\u001b[39m))\n\u001b[0;32m----> <a href='vscode-notebook-cell:/Users/juanpaps03/Documents/ORT/IA/jupyter-env/Obligatorio/Carpole/cartpole.ipynb#X11sZmlsZQ%3D%3D?line=2'>3</a>\u001b[0m Q\n",
      "File \u001b[0;32m~/Library/Caches/pypoetry/virtualenvs/jupyter-env-X9eyKUcs-py3.10/lib/python3.10/site-packages/IPython/core/displayhook.py:262\u001b[0m, in \u001b[0;36mDisplayHook.__call__\u001b[0;34m(self, result)\u001b[0m\n\u001b[1;32m    260\u001b[0m \u001b[39mself\u001b[39m\u001b[39m.\u001b[39mstart_displayhook()\n\u001b[1;32m    261\u001b[0m \u001b[39mself\u001b[39m\u001b[39m.\u001b[39mwrite_output_prompt()\n\u001b[0;32m--> 262\u001b[0m format_dict, md_dict \u001b[39m=\u001b[39m \u001b[39mself\u001b[39;49m\u001b[39m.\u001b[39;49mcompute_format_data(result)\n\u001b[1;32m    263\u001b[0m \u001b[39mself\u001b[39m\u001b[39m.\u001b[39mupdate_user_ns(result)\n\u001b[1;32m    264\u001b[0m \u001b[39mself\u001b[39m\u001b[39m.\u001b[39mfill_exec_result(result)\n",
      "File \u001b[0;32m~/Library/Caches/pypoetry/virtualenvs/jupyter-env-X9eyKUcs-py3.10/lib/python3.10/site-packages/IPython/core/displayhook.py:151\u001b[0m, in \u001b[0;36mDisplayHook.compute_format_data\u001b[0;34m(self, result)\u001b[0m\n\u001b[1;32m    121\u001b[0m \u001b[39mdef\u001b[39;00m \u001b[39mcompute_format_data\u001b[39m(\u001b[39mself\u001b[39m, result):\n\u001b[1;32m    122\u001b[0m     \u001b[39m\"\"\"Compute format data of the object to be displayed.\u001b[39;00m\n\u001b[1;32m    123\u001b[0m \n\u001b[1;32m    124\u001b[0m \u001b[39m    The format data is a generalization of the :func:`repr` of an object.\u001b[39;00m\n\u001b[0;32m   (...)\u001b[0m\n\u001b[1;32m    149\u001b[0m \n\u001b[1;32m    150\u001b[0m \u001b[39m    \"\"\"\u001b[39;00m\n\u001b[0;32m--> 151\u001b[0m     \u001b[39mreturn\u001b[39;00m \u001b[39mself\u001b[39;49m\u001b[39m.\u001b[39;49mshell\u001b[39m.\u001b[39;49mdisplay_formatter\u001b[39m.\u001b[39;49mformat(result)\n",
      "File \u001b[0;32m~/Library/Caches/pypoetry/virtualenvs/jupyter-env-X9eyKUcs-py3.10/lib/python3.10/site-packages/IPython/core/formatters.py:144\u001b[0m, in \u001b[0;36mDisplayFormatter.format\u001b[0;34m(self, obj, include, exclude)\u001b[0m\n\u001b[1;32m    141\u001b[0m format_dict \u001b[39m=\u001b[39m {}\n\u001b[1;32m    142\u001b[0m md_dict \u001b[39m=\u001b[39m {}\n\u001b[0;32m--> 144\u001b[0m \u001b[39mif\u001b[39;00m \u001b[39mself\u001b[39;49m\u001b[39m.\u001b[39;49mipython_display_formatter(obj):\n\u001b[1;32m    145\u001b[0m     \u001b[39m# object handled itself, don't proceed\u001b[39;00m\n\u001b[1;32m    146\u001b[0m     \u001b[39mreturn\u001b[39;00m {}, {}\n\u001b[1;32m    148\u001b[0m format_dict, md_dict \u001b[39m=\u001b[39m \u001b[39mself\u001b[39m\u001b[39m.\u001b[39mmimebundle_formatter(obj, include\u001b[39m=\u001b[39minclude, exclude\u001b[39m=\u001b[39mexclude)\n",
      "File \u001b[0;32m~/Library/Caches/pypoetry/virtualenvs/jupyter-env-X9eyKUcs-py3.10/lib/python3.10/site-packages/traitlets/traitlets.py:686\u001b[0m, in \u001b[0;36mTraitType.__get__\u001b[0;34m(self, obj, cls)\u001b[0m\n\u001b[1;32m    684\u001b[0m     \u001b[39mreturn\u001b[39;00m \u001b[39mself\u001b[39m\n\u001b[1;32m    685\u001b[0m \u001b[39melse\u001b[39;00m:\n\u001b[0;32m--> 686\u001b[0m     \u001b[39mreturn\u001b[39;00m \u001b[39mself\u001b[39;49m\u001b[39m.\u001b[39;49mget(obj, \u001b[39mcls\u001b[39;49m)\n",
      "File \u001b[0;32m~/Library/Caches/pypoetry/virtualenvs/jupyter-env-X9eyKUcs-py3.10/lib/python3.10/site-packages/traitlets/traitlets.py:648\u001b[0m, in \u001b[0;36mTraitType.get\u001b[0;34m(self, obj, cls)\u001b[0m\n\u001b[1;32m    645\u001b[0m     value \u001b[39m=\u001b[39m obj\u001b[39m.\u001b[39m_trait_values[\u001b[39mself\u001b[39m\u001b[39m.\u001b[39mname]\n\u001b[1;32m    646\u001b[0m \u001b[39mexcept\u001b[39;00m \u001b[39mKeyError\u001b[39;00m:\n\u001b[1;32m    647\u001b[0m     \u001b[39m# Check for a dynamic initializer.\u001b[39;00m\n\u001b[0;32m--> 648\u001b[0m     default \u001b[39m=\u001b[39m obj\u001b[39m.\u001b[39;49mtrait_defaults(\u001b[39mself\u001b[39;49m\u001b[39m.\u001b[39;49mname)\n\u001b[1;32m    649\u001b[0m     \u001b[39mif\u001b[39;00m default \u001b[39mis\u001b[39;00m Undefined:\n\u001b[1;32m    650\u001b[0m         warn(\n\u001b[1;32m    651\u001b[0m             \u001b[39m\"\u001b[39m\u001b[39mExplicit using of Undefined as the default value \u001b[39m\u001b[39m\"\u001b[39m\n\u001b[1;32m    652\u001b[0m             \u001b[39m\"\u001b[39m\u001b[39mis deprecated in traitlets 5.0, and may cause \u001b[39m\u001b[39m\"\u001b[39m\n\u001b[0;32m   (...)\u001b[0m\n\u001b[1;32m    655\u001b[0m             stacklevel\u001b[39m=\u001b[39m\u001b[39m2\u001b[39m,\n\u001b[1;32m    656\u001b[0m         )\n",
      "File \u001b[0;32m~/Library/Caches/pypoetry/virtualenvs/jupyter-env-X9eyKUcs-py3.10/lib/python3.10/site-packages/traitlets/traitlets.py:1752\u001b[0m, in \u001b[0;36mHasTraits.trait_defaults\u001b[0;34m(self, *names, **metadata)\u001b[0m\n\u001b[1;32m   1749\u001b[0m         \u001b[39mraise\u001b[39;00m TraitError(\u001b[39mf\u001b[39m\u001b[39m\"\u001b[39m\u001b[39m'\u001b[39m\u001b[39m{\u001b[39;00mn\u001b[39m}\u001b[39;00m\u001b[39m'\u001b[39m\u001b[39m is not a trait of \u001b[39m\u001b[39m'\u001b[39m\u001b[39m{\u001b[39;00m\u001b[39mtype\u001b[39m(\u001b[39mself\u001b[39m)\u001b[39m.\u001b[39m\u001b[39m__name__\u001b[39m\u001b[39m}\u001b[39;00m\u001b[39m'\u001b[39m\u001b[39m instances\u001b[39m\u001b[39m\"\u001b[39m)\n\u001b[1;32m   1751\u001b[0m \u001b[39mif\u001b[39;00m \u001b[39mlen\u001b[39m(names) \u001b[39m==\u001b[39m \u001b[39m1\u001b[39m \u001b[39mand\u001b[39;00m \u001b[39mlen\u001b[39m(metadata) \u001b[39m==\u001b[39m \u001b[39m0\u001b[39m:\n\u001b[0;32m-> 1752\u001b[0m     \u001b[39mreturn\u001b[39;00m \u001b[39mself\u001b[39;49m\u001b[39m.\u001b[39;49m_get_trait_default_generator(names[\u001b[39m0\u001b[39;49m])(\u001b[39mself\u001b[39;49m)\n\u001b[1;32m   1754\u001b[0m trait_names \u001b[39m=\u001b[39m \u001b[39mself\u001b[39m\u001b[39m.\u001b[39mtrait_names(\u001b[39m*\u001b[39m\u001b[39m*\u001b[39mmetadata)\n\u001b[1;32m   1755\u001b[0m trait_names\u001b[39m.\u001b[39mextend(names)\n",
      "File \u001b[0;32m~/Library/Caches/pypoetry/virtualenvs/jupyter-env-X9eyKUcs-py3.10/lib/python3.10/site-packages/traitlets/traitlets.py:1132\u001b[0m, in \u001b[0;36mEventHandler.__call__\u001b[0;34m(self, *args, **kwargs)\u001b[0m\n\u001b[1;32m   1130\u001b[0m \u001b[39m\"\"\"Pass `*args` and `**kwargs` to the handler's function if it exists.\"\"\"\u001b[39;00m\n\u001b[1;32m   1131\u001b[0m \u001b[39mif\u001b[39;00m \u001b[39mhasattr\u001b[39m(\u001b[39mself\u001b[39m, \u001b[39m\"\u001b[39m\u001b[39mfunc\u001b[39m\u001b[39m\"\u001b[39m):\n\u001b[0;32m-> 1132\u001b[0m     \u001b[39mreturn\u001b[39;00m \u001b[39mself\u001b[39;49m\u001b[39m.\u001b[39;49mfunc(\u001b[39m*\u001b[39;49margs, \u001b[39m*\u001b[39;49m\u001b[39m*\u001b[39;49mkwargs)\n\u001b[1;32m   1133\u001b[0m \u001b[39melse\u001b[39;00m:\n\u001b[1;32m   1134\u001b[0m     \u001b[39mreturn\u001b[39;00m \u001b[39mself\u001b[39m\u001b[39m.\u001b[39m_init_call(\u001b[39m*\u001b[39margs, \u001b[39m*\u001b[39m\u001b[39m*\u001b[39mkwargs)\n",
      "File \u001b[0;32m~/Library/Caches/pypoetry/virtualenvs/jupyter-env-X9eyKUcs-py3.10/lib/python3.10/site-packages/IPython/core/formatters.py:58\u001b[0m, in \u001b[0;36mDisplayFormatter._default_formatter\u001b[0;34m(self)\u001b[0m\n\u001b[1;32m     56\u001b[0m \u001b[39m@default\u001b[39m(\u001b[39m'\u001b[39m\u001b[39mipython_display_formatter\u001b[39m\u001b[39m'\u001b[39m)\n\u001b[1;32m     57\u001b[0m \u001b[39mdef\u001b[39;00m \u001b[39m_default_formatter\u001b[39m(\u001b[39mself\u001b[39m):\n\u001b[0;32m---> 58\u001b[0m     \u001b[39mreturn\u001b[39;00m IPythonDisplayFormatter(parent\u001b[39m=\u001b[39;49m\u001b[39mself\u001b[39;49m)\n",
      "File \u001b[0;32m~/Library/Caches/pypoetry/virtualenvs/jupyter-env-X9eyKUcs-py3.10/lib/python3.10/site-packages/traitlets/config/configurable.py:109\u001b[0m, in \u001b[0;36mConfigurable.__init__\u001b[0;34m(self, **kwargs)\u001b[0m\n\u001b[1;32m    100\u001b[0m \u001b[39m# load config\u001b[39;00m\n\u001b[1;32m    101\u001b[0m \u001b[39mif\u001b[39;00m config \u001b[39mis\u001b[39;00m \u001b[39mnot\u001b[39;00m \u001b[39mNone\u001b[39;00m:\n\u001b[1;32m    102\u001b[0m     \u001b[39m# We used to deepcopy, but for now we are trying to just save\u001b[39;00m\n\u001b[1;32m    103\u001b[0m     \u001b[39m# by reference.  This *could* have side effects as all components\u001b[39;00m\n\u001b[0;32m   (...)\u001b[0m\n\u001b[1;32m    107\u001b[0m     \u001b[39m# making that a class attribute.\u001b[39;00m\n\u001b[1;32m    108\u001b[0m     \u001b[39m# self.config = deepcopy(config)\u001b[39;00m\n\u001b[0;32m--> 109\u001b[0m     \u001b[39mself\u001b[39;49m\u001b[39m.\u001b[39;49mconfig \u001b[39m=\u001b[39m config\n\u001b[1;32m    110\u001b[0m \u001b[39melse\u001b[39;00m:\n\u001b[1;32m    111\u001b[0m     \u001b[39m# allow _config_default to return something\u001b[39;00m\n\u001b[1;32m    112\u001b[0m     \u001b[39mself\u001b[39m\u001b[39m.\u001b[39m_load_config(\u001b[39mself\u001b[39m\u001b[39m.\u001b[39mconfig)\n",
      "File \u001b[0;32m~/Library/Caches/pypoetry/virtualenvs/jupyter-env-X9eyKUcs-py3.10/lib/python3.10/site-packages/traitlets/traitlets.py:715\u001b[0m, in \u001b[0;36mTraitType.__set__\u001b[0;34m(self, obj, value)\u001b[0m\n\u001b[1;32m    713\u001b[0m     \u001b[39mraise\u001b[39;00m TraitError(\u001b[39m'\u001b[39m\u001b[39mThe \u001b[39m\u001b[39m\"\u001b[39m\u001b[39m%s\u001b[39;00m\u001b[39m\"\u001b[39m\u001b[39m trait is read-only.\u001b[39m\u001b[39m'\u001b[39m \u001b[39m%\u001b[39m \u001b[39mself\u001b[39m\u001b[39m.\u001b[39mname)\n\u001b[1;32m    714\u001b[0m \u001b[39melse\u001b[39;00m:\n\u001b[0;32m--> 715\u001b[0m     \u001b[39mself\u001b[39;49m\u001b[39m.\u001b[39;49mset(obj, value)\n",
      "File \u001b[0;32m~/Library/Caches/pypoetry/virtualenvs/jupyter-env-X9eyKUcs-py3.10/lib/python3.10/site-packages/traitlets/traitlets.py:704\u001b[0m, in \u001b[0;36mTraitType.set\u001b[0;34m(self, obj, value)\u001b[0m\n\u001b[1;32m    700\u001b[0m     silent \u001b[39m=\u001b[39m \u001b[39mFalse\u001b[39;00m\n\u001b[1;32m    701\u001b[0m \u001b[39mif\u001b[39;00m silent \u001b[39mis\u001b[39;00m \u001b[39mnot\u001b[39;00m \u001b[39mTrue\u001b[39;00m:\n\u001b[1;32m    702\u001b[0m     \u001b[39m# we explicitly compare silent to True just in case the equality\u001b[39;00m\n\u001b[1;32m    703\u001b[0m     \u001b[39m# comparison above returns something other than True/False\u001b[39;00m\n\u001b[0;32m--> 704\u001b[0m     obj\u001b[39m.\u001b[39;49m_notify_trait(\u001b[39mself\u001b[39;49m\u001b[39m.\u001b[39;49mname, old_value, new_value)\n",
      "File \u001b[0;32m~/Library/Caches/pypoetry/virtualenvs/jupyter-env-X9eyKUcs-py3.10/lib/python3.10/site-packages/traitlets/traitlets.py:1374\u001b[0m, in \u001b[0;36mHasTraits._notify_trait\u001b[0;34m(self, name, old_value, new_value)\u001b[0m\n\u001b[1;32m   1373\u001b[0m \u001b[39mdef\u001b[39;00m \u001b[39m_notify_trait\u001b[39m(\u001b[39mself\u001b[39m, name, old_value, new_value):\n\u001b[0;32m-> 1374\u001b[0m     \u001b[39mself\u001b[39;49m\u001b[39m.\u001b[39;49mnotify_change(\n\u001b[1;32m   1375\u001b[0m         Bunch(\n\u001b[1;32m   1376\u001b[0m             name\u001b[39m=\u001b[39;49mname,\n\u001b[1;32m   1377\u001b[0m             old\u001b[39m=\u001b[39;49mold_value,\n\u001b[1;32m   1378\u001b[0m             new\u001b[39m=\u001b[39;49mnew_value,\n\u001b[1;32m   1379\u001b[0m             owner\u001b[39m=\u001b[39;49m\u001b[39mself\u001b[39;49m,\n\u001b[1;32m   1380\u001b[0m             \u001b[39mtype\u001b[39;49m\u001b[39m=\u001b[39;49m\u001b[39m\"\u001b[39;49m\u001b[39mchange\u001b[39;49m\u001b[39m\"\u001b[39;49m,\n\u001b[1;32m   1381\u001b[0m         )\n\u001b[1;32m   1382\u001b[0m     )\n",
      "File \u001b[0;32m~/Library/Caches/pypoetry/virtualenvs/jupyter-env-X9eyKUcs-py3.10/lib/python3.10/site-packages/traitlets/traitlets.py:1386\u001b[0m, in \u001b[0;36mHasTraits.notify_change\u001b[0;34m(self, change)\u001b[0m\n\u001b[1;32m   1384\u001b[0m \u001b[39mdef\u001b[39;00m \u001b[39mnotify_change\u001b[39m(\u001b[39mself\u001b[39m, change):\n\u001b[1;32m   1385\u001b[0m     \u001b[39m\"\"\"Notify observers of a change event\"\"\"\u001b[39;00m\n\u001b[0;32m-> 1386\u001b[0m     \u001b[39mreturn\u001b[39;00m \u001b[39mself\u001b[39;49m\u001b[39m.\u001b[39;49m_notify_observers(change)\n",
      "File \u001b[0;32m~/Library/Caches/pypoetry/virtualenvs/jupyter-env-X9eyKUcs-py3.10/lib/python3.10/site-packages/traitlets/traitlets.py:1393\u001b[0m, in \u001b[0;36mHasTraits._notify_observers\u001b[0;34m(self, event)\u001b[0m\n\u001b[1;32m   1390\u001b[0m \u001b[39mif\u001b[39;00m \u001b[39mnot\u001b[39;00m \u001b[39misinstance\u001b[39m(event, Bunch):\n\u001b[1;32m   1391\u001b[0m     \u001b[39m# cast to bunch if given a dict\u001b[39;00m\n\u001b[1;32m   1392\u001b[0m     event \u001b[39m=\u001b[39m Bunch(event)\n\u001b[0;32m-> 1393\u001b[0m name, \u001b[39mtype\u001b[39m \u001b[39m=\u001b[39m event\u001b[39m.\u001b[39mname, event\u001b[39m.\u001b[39;49mtype\n\u001b[1;32m   1395\u001b[0m callables \u001b[39m=\u001b[39m []\n\u001b[1;32m   1396\u001b[0m callables\u001b[39m.\u001b[39mextend(\u001b[39mself\u001b[39m\u001b[39m.\u001b[39m_trait_notifiers\u001b[39m.\u001b[39mget(name, {})\u001b[39m.\u001b[39mget(\u001b[39mtype\u001b[39m, []))\n",
      "File \u001b[0;32m~/Library/Caches/pypoetry/virtualenvs/jupyter-env-X9eyKUcs-py3.10/lib/python3.10/site-packages/traitlets/utils/bunch.py:13\u001b[0m, in \u001b[0;36mBunch.__getattr__\u001b[0;34m(self, key)\u001b[0m\n\u001b[1;32m     10\u001b[0m \u001b[39mclass\u001b[39;00m \u001b[39mBunch\u001b[39;00m(\u001b[39mdict\u001b[39m):  \u001b[39m# type:ignore[type-arg]\u001b[39;00m\n\u001b[1;32m     11\u001b[0m     \u001b[39m\"\"\"A dict with attribute-access\"\"\"\u001b[39;00m\n\u001b[0;32m---> 13\u001b[0m     \u001b[39mdef\u001b[39;00m \u001b[39m__getattr__\u001b[39m(\u001b[39mself\u001b[39m, key):\n\u001b[1;32m     14\u001b[0m         \u001b[39mtry\u001b[39;00m:\n\u001b[1;32m     15\u001b[0m             \u001b[39mreturn\u001b[39;00m \u001b[39mself\u001b[39m\u001b[39m.\u001b[39m\u001b[39m__getitem__\u001b[39m(key)\n",
      "File \u001b[0;32m~/Library/Caches/pypoetry/virtualenvs/jupyter-env-X9eyKUcs-py3.10/lib/python3.10/site-packages/debugpy/_vendored/pydevd/_pydevd_bundle/pydevd_trace_dispatch_regular.py:326\u001b[0m, in \u001b[0;36mThreadTracer.__call__\u001b[0;34m(self, frame, event, arg)\u001b[0m\n\u001b[1;32m    323\u001b[0m         \u001b[39mself\u001b[39m\u001b[39m.\u001b[39m_args \u001b[39m=\u001b[39m args\n\u001b[1;32m    324\u001b[0m \u001b[39m# ENDIF\u001b[39;00m\n\u001b[0;32m--> 326\u001b[0m     \u001b[39mdef\u001b[39;00m \u001b[39m__call__\u001b[39m(\u001b[39mself\u001b[39m, frame, event, arg):\n\u001b[1;32m    327\u001b[0m         \u001b[39m''' This is the callback used when we enter some context in the debugger.\u001b[39;00m\n\u001b[1;32m    328\u001b[0m \n\u001b[1;32m    329\u001b[0m \u001b[39m        We also decorate the thread we are in with info about the debugging.\u001b[39;00m\n\u001b[0;32m   (...)\u001b[0m\n\u001b[1;32m    337\u001b[0m \u001b[39m            This is the global debugger (this method should actually be added as a method to it).\u001b[39;00m\n\u001b[1;32m    338\u001b[0m \u001b[39m        '''\u001b[39;00m\n\u001b[1;32m    339\u001b[0m         \u001b[39m# IFDEF CYTHON\u001b[39;00m\n\u001b[1;32m    340\u001b[0m         \u001b[39m# cdef str filename;\u001b[39;00m\n\u001b[1;32m    341\u001b[0m         \u001b[39m# cdef str base;\u001b[39;00m\n\u001b[0;32m   (...)\u001b[0m\n\u001b[1;32m    350\u001b[0m         \u001b[39m# DEBUG = 'code_to_debug' in frame.f_code.co_filename\u001b[39;00m\n\u001b[1;32m    351\u001b[0m         \u001b[39m# if DEBUG: print('ENTER: trace_dispatch: %s %s %s %s' % (frame.f_code.co_filename, frame.f_lineno, event, frame.f_code.co_name))\u001b[39;00m\n",
      "\u001b[0;31mKeyboardInterrupt\u001b[0m: "
     ]
    }
   ],
   "source": [
    "Q = np.random.random((2,2,2,2,2))\n",
    "Q"
   ]
  },
  {
   "cell_type": "code",
   "execution_count": null,
   "id": "5ffb00ba",
   "metadata": {},
   "outputs": [
    {
     "name": "stdout",
     "output_type": "stream",
     "text": [
      "[-0.03388138  0.02983903 -0.03020782  0.0430648 ]\n",
      "explore\n",
      "-> (0, 1, 0, 1) 0 1.0 [-0.0332846  -0.16483702 -0.02934653  0.3260659 ] False {}\n",
      "explore\n",
      "-> (0, 0, 0, 1) 0 1.0 [-0.03658134 -0.3595291  -0.02282521  0.60935163] False {}\n",
      "exploit\n",
      "-> (0, 0, 0, 1) 1 1.0 [-0.04377192 -0.16409566 -0.01063818  0.30956778] False {}\n",
      "exploit\n",
      "-> (0, 0, 0, 1) 1 1.0 [-0.04705384  0.03117625 -0.00444682  0.01354896] False {}\n",
      "exploit\n",
      "-> (0, 1, 0, 1) 1 1.0 [-0.04643031  0.22636169 -0.00417584 -0.28053367] False {}\n",
      "explore\n",
      "-> (0, 1, 0, 0) 0 1.0 [-0.04190307  0.03129955 -0.00978651  0.01082929] False {}\n",
      "exploit\n",
      "-> (0, 1, 0, 1) 1 1.0 [-0.04127708  0.22656047 -0.00956993 -0.28492525] False {}\n",
      "explore\n",
      "-> (0, 1, 0, 0) 0 1.0 [-0.03674588  0.03157631 -0.01526843  0.00472407] False {}\n",
      "exploit\n",
      "-> (0, 1, 0, 1) 1 1.0 [-0.03611435  0.22691387 -0.01517395 -0.29273686] False {}\n",
      "exploit\n",
      "-> (0, 1, 0, 0) 1 1.0 [-0.03157607  0.42224884 -0.02102869 -0.59016657] False {}\n",
      "exploit\n",
      "-> (0, 1, 0, 0) 1 1.0 [-0.02313109  0.6176588  -0.03283202 -0.8893987 ] False {}\n",
      "exploit\n",
      "-> (0, 1, 0, 0) 1 1.0 [-0.01077792  0.81321055 -0.05061999 -1.192219  ] False {}\n",
      "exploit\n",
      "-> (0, 1, 0, 0) 1 1.0 [ 0.00548629  1.0089504  -0.07446437 -1.5003287 ] False {}\n",
      "exploit\n",
      "-> (1, 1, 0, 0) 1 1.0 [ 0.0256653   1.2048936  -0.10447095 -1.8153013 ] False {}\n",
      "explore\n",
      "-> (1, 1, 0, 0) 1 1.0 [ 0.04976317  1.4010116  -0.14077698 -2.138533  ] False {}\n",
      "explore\n",
      "-> (1, 1, 0, 0) 0 1.0 [ 0.07778341  1.2075347  -0.18354763 -1.8924406 ] False {}\n",
      "exploit\n",
      "-> (1, 1, 0, 0) 1 1.0 [ 0.1019341   1.4041134  -0.22139645 -2.236016  ] True {'TimeLimit.truncated': False}\n"
     ]
    },
    {
     "ename": "",
     "evalue": "",
     "output_type": "error",
     "traceback": [
      "\u001b[1;31mEl Kernel se bloqueó al ejecutar código en la celda actual o en una celda anterior. Revise el código de las celdas para identificar una posible causa del error. Haga clic <a href='https://aka.ms/vscodeJupyterKernelCrash'>aquí</a> para obtener más información. Vea el [registro] de Jupyter (command:jupyter.viewOutput) para obtener más detalles."
     ]
    }
   ],
   "source": [
    "obs = env.reset()\n",
    "print(obs)\n",
    "done = False\n",
    "while not done:\n",
    "    state = get_state(obs)\n",
    "    action = epsilon_greedy_policy(state, Q, 0.5)\n",
    "    obs, reward, done, info = env.step(action)\n",
    "    print('->', state, action, reward, obs, done, info)\n",
    "env.close()"
   ]
  },
  {
   "cell_type": "code",
   "execution_count": null,
   "id": "c1b033ba",
   "metadata": {},
   "outputs": [],
   "source": [
    "\n"
   ]
  }
 ],
 "metadata": {
  "kernelspec": {
   "display_name": "Python 3.10.8 ('jupyter-env-X9eyKUcs-py3.10')",
   "language": "python",
   "name": "python3"
  },
  "language_info": {
   "codemirror_mode": {
    "name": "ipython",
    "version": 3
   },
   "file_extension": ".py",
   "mimetype": "text/x-python",
   "name": "python",
   "nbconvert_exporter": "python",
   "pygments_lexer": "ipython3",
   "version": "3.10.8"
  },
  "vscode": {
   "interpreter": {
    "hash": "512a0b8aaaf0af7044eedcee14838a5d4f746d56b314969637af5cee22079375"
   }
  }
 },
 "nbformat": 4,
 "nbformat_minor": 5
}
