{
 "cells": [
  {
   "attachments": {},
   "cell_type": "markdown",
   "id": "881586d1",
   "metadata": {},
   "source": [
    "### Inicializaciones"
   ]
  },
  {
   "cell_type": "code",
   "execution_count": 152,
   "id": "9f1c3938",
   "metadata": {},
   "outputs": [],
   "source": [
    "#!pip install gym\n",
    "#!pip install pygame"
   ]
  },
  {
   "cell_type": "code",
   "execution_count": 153,
   "id": "e4231adb",
   "metadata": {},
   "outputs": [],
   "source": [
    "import gym\n",
    "import numpy as np\n",
    "import time"
   ]
  },
  {
   "cell_type": "markdown",
   "id": "6612245c",
   "metadata": {},
   "source": [
    "### Funciones auxiliares"
   ]
  },
  {
   "cell_type": "code",
   "execution_count": 154,
   "id": "4a591fcb",
   "metadata": {},
   "outputs": [],
   "source": [
    "def epsilon_greedy_policy(state, Q, epsilon=0.1):\n",
    "    explore = np.random.binomial(1, epsilon)\n",
    "    if explore:\n",
    "        action = env.action_space.sample()\n",
    "    else:\n",
    "        action = np.argmax(Q[state])\n",
    "    return action"
   ]
  },
  {
   "cell_type": "code",
   "execution_count": 155,
   "id": "311558bb",
   "metadata": {},
   "outputs": [],
   "source": [
    "# Se busca aprender rapidamente al principio, y despues ir aprendiendo más lento en busca de mejores resultados\n",
    "def get_learning_rate(t, min_rate=0.001):\n",
    "    alpha_decay_steps = 25\n",
    "    return max(min_rate, min(1.0, 1.0 - np.log10((t+1)/alpha_decay_steps)))"
   ]
  },
  {
   "cell_type": "code",
   "execution_count": 156,
   "id": "5c74be28",
   "metadata": {},
   "outputs": [],
   "source": [
    "#Se busca que epsilon disminuya con el tiempo, queremos evitar el uso de minimos suboptimos al comienzo del entenamiento,\n",
    "# para esto hacemos que explore la mayor parte del tiempo al comienzo y luego vaya disminuyendo\n",
    "def get_epsilon(t, min_epsilon=0.1):\n",
    "    epsilon_decay_step = 25\n",
    "    return max(min_epsilon, min(1, 1.0 - np.log10((t+1)/epsilon_decay_step)))"
   ]
  },
  {
   "cell_type": "code",
   "execution_count": 157,
   "id": "ac5a5bfc",
   "metadata": {},
   "outputs": [],
   "source": [
    "def q_learning(state, Q, episode):   \n",
    "    done = False\n",
    "    gamma = 0.999\n",
    "    while not done:\n",
    "        alpha = get_learning_rate(episode)\n",
    "        epsilon = get_epsilon(episode)\n",
    "        action = epsilon_greedy_policy(state, Q, epsilon)\n",
    "        obs, reward, terminated, truncated, info = env.step(action)\n",
    "        done = terminated or truncated\n",
    "        current_Q_value = Q[state][action]\n",
    "        discrete_obs = get_state(obs)\n",
    "        Q[state][action] = current_Q_value + alpha*(reward + gamma*np.max(Q[discrete_obs][:]) - current_Q_value)\n",
    "        state = discrete_obs"
   ]
  },
  {
   "cell_type": "code",
   "execution_count": 158,
   "id": "92a08789",
   "metadata": {},
   "outputs": [],
   "source": [
    "def optimal_policy(state, Q):\n",
    "    action = np.argmax(Q[state])\n",
    "    return action"
   ]
  },
  {
   "cell_type": "markdown",
   "id": "72397952",
   "metadata": {},
   "source": [
    "### Discretizacion de variables de la observación"
   ]
  },
  {
   "attachments": {},
   "cell_type": "markdown",
   "id": "26ebcbee",
   "metadata": {},
   "source": [
    "Como la posicion del carrito y su aceleracion no son tan relevantes como la posicion de la barra y su velocidad, se discretizan utilizando una menor cantidad de contenedores de mayor tamaño Por otro lado, tanto la aceleración angular como el ángulo del poste son las variables de mayor importancia, son los que van a variar con una mayor velocidad. Por lo tanto, se discretizan con una mayor cantidad de contenedores de menor tamaño."
   ]
  },
  {
   "cell_type": "code",
   "execution_count": 170,
   "id": "00564955",
   "metadata": {},
   "outputs": [
    {
     "name": "stdout",
     "output_type": "stream",
     "text": [
      "cart_pos_step:  1.5999999999999999\n",
      "cart_acc_step:  100.0\n",
      "pole_angle_step:  0.05714285714285715\n",
      "angular_acc_step:  2500.0\n"
     ]
    }
   ],
   "source": [
    "cart_position_bins, cart_pos_step = np.linspace(-2.4, 2.4, 4, retstep=True)\n",
    "cart_acc_bins, cart_acc_step = np.linspace(-100, 100, 3, retstep=True)\n",
    "pole_angle_bins, pole_angle_step = np.linspace(-.2,.2, 8, retstep=True)\n",
    "angular_acc_bins, angular_acc_step = np.linspace(-5000, 5000, 5, retstep=True)\n",
    "print(\"cart_pos_step: \", cart_pos_step)\n",
    "print(\"cart_acc_step: \", cart_acc_step)\n",
    "print(\"pole_angle_step: \", pole_angle_step)\n",
    "print(\"angular_acc_step: \", angular_acc_step)"
   ]
  },
  {
   "cell_type": "code",
   "execution_count": 160,
   "id": "345c50b5",
   "metadata": {},
   "outputs": [],
   "source": [
    "def get_state(obs):\n",
    "    cart_pos = np.digitize(obs[0], cart_position_bins)\n",
    "    cart_acc = np.digitize(obs[1], cart_acc_bins)\n",
    "    pole_ang = np.digitize(obs[2], pole_angle_bins)\n",
    "    ang_acc = np.digitize(obs[3], angular_acc_bins)\n",
    "    state = tuple([cart_pos, cart_acc, pole_ang, ang_acc])\n",
    "    return state"
   ]
  },
  {
   "cell_type": "code",
   "execution_count": 161,
   "id": "17e0564c",
   "metadata": {},
   "outputs": [
    {
     "data": {
      "text/plain": [
       "(1, 2, 2, 3)"
      ]
     },
     "execution_count": 161,
     "metadata": {},
     "output_type": "execute_result"
    }
   ],
   "source": [
    "state = get_state(np.array([-1.4, 0.11, -0.100, 200]))\n",
    "state"
   ]
  },
  {
   "cell_type": "markdown",
   "id": "a251725d",
   "metadata": {},
   "source": [
    "### Inicialización de Q"
   ]
  },
  {
   "cell_type": "code",
   "execution_count": 171,
   "id": "9ea75fdc",
   "metadata": {},
   "outputs": [
    {
     "name": "stdout",
     "output_type": "stream",
     "text": [
      "Valid cart position bins: 0 -  4\n",
      "Valid cart acceleration bins: 0 -  3\n",
      "Valid pole angle bins: 0 -  8\n",
      "Valid pole acceleration bins: 0 -  5\n"
     ]
    },
    {
     "data": {
      "text/plain": [
       "(5, 4, 9, 6, 2)"
      ]
     },
     "execution_count": 171,
     "metadata": {},
     "output_type": "execute_result"
    }
   ],
   "source": [
    "position_bins_count = cart_position_bins.size + 1\n",
    "acc_bins_count = cart_acc_bins.size + 1\n",
    "angle_bins_count = pole_angle_bins.size + 1\n",
    "angular_acc_bins_count = angular_acc_bins.size + 1\n",
    "print(\"Valid cart position bins: 0 - \", position_bins_count - 1)\n",
    "print(\"Valid cart acceleration bins: 0 - \", acc_bins_count - 1)\n",
    "print(\"Valid pole angle bins: 0 - \", angle_bins_count - 1)\n",
    "print(\"Valid pole acceleration bins: 0 - \", angular_acc_bins_count - 1)\n",
    "Q = np.random.random((position_bins_count,acc_bins_count,angle_bins_count,angular_acc_bins_count,2))\n",
    "Q.shape"
   ]
  },
  {
   "attachments": {},
   "cell_type": "markdown",
   "id": "2d728a6e",
   "metadata": {},
   "source": [
    "### Entrenamiento"
   ]
  },
  {
   "attachments": {},
   "cell_type": "markdown",
   "id": "112c2da8",
   "metadata": {},
   "source": [
    "Para el entrenamiento se consideraron distintos casos, en un principio se opto por dejar fijo tanto alpha como epsilon, y aumentar el número de episodios para ver si mejoraban los resultados, lo cual no sucedió y los resultados oscilaban entre 10 y 40. Al probar con 100000 episodios llevo una cantidad demasiado grande de tiempo por lo que decidimos cortarlo a las 3 horas, se pudó observar que funcionaba correctamente cuando ejecutamos la policy optima, pero VSCode dejo de funcionar correctamente, en vista de eso y que tomo una cantidad demasiado grande de tiempo, se opto por disminuir la cantidad de episodios a un número razonable, y hacer variar el resto de hiperparametros.\n",
    "Al observar la simulación unas cuantas veces pudimos notar que generalmente perdia porque el ángulo del palo superaba el limite, y muy pocas veces era porque se iba de rango en el eje X, por esto mismo se opto por usar una menor cantidad de contenedores para los datos menos relevantes, y aumentar, dentro de lo razonable, los contenedores para el ángulo y la velocidad angular, para que el agente pudiera aprender a mantener el palo en el centro del carrito.\n",
    "Comenzamos recortando la cantidad de episodios a 125 y vimos resultados en el entorno de los 20, luego a 250 y aqui oscilaban entre 30 y 70, luego al aumentar a 500 vimos que estaba en el entorno de los 200, luego a 1000 y vimos que empezaba a acercarse al entorno de los 200.\n",
    "Lo que buscamos fue hacer que tanto alpha como epsilon varien en funcion de la cantidad de episodios que transcurrieron, para explorar y aprender rapidamente al principio, y luego empezar a encontrar mejores soluciones."
   ]
  },
  {
   "attachments": {},
   "cell_type": "markdown",
   "id": "3274d26c",
   "metadata": {},
   "source": [
    "Se usaron semillas especificas para poder repetir los resultados una vez ajustados correctamente los parametros y poder compartir los resultados."
   ]
  },
  {
   "cell_type": "code",
   "execution_count": 172,
   "id": "5de5d8bd",
   "metadata": {},
   "outputs": [
    {
     "name": "stdout",
     "output_type": "stream",
     "text": [
      "Episode:  0\n",
      "Episode:  100\n",
      "Episode:  200\n",
      "Episode:  300\n",
      "Episode:  400\n",
      "Episode:  500\n",
      "Episode:  600\n",
      "Episode:  700\n",
      "Episode:  800\n",
      "Episode:  900\n",
      "Episode:  1000\n",
      "Episode:  1100\n",
      "Episode:  1200\n",
      "Episode:  1300\n",
      "Episode:  1400\n",
      "Episode:  1500\n",
      "Episode:  1600\n",
      "Episode:  1700\n",
      "Episode:  1800\n",
      "Episode:  1900\n",
      "Episode:  1999\n"
     ]
    }
   ],
   "source": [
    "env = gym.make('CartPole-v1', new_step_api=True)\n",
    "done = False\n",
    "max_episodes = 2000\n",
    "trainedQ = Q.copy()\n",
    "for i in range(max_episodes):\n",
    "    obs = env.reset()\n",
    "    if i % 100 == 0 or i == max_episodes - 1:\n",
    "        print('Episode: ', i)\n",
    "    q_learning(get_state(obs), trainedQ, i)\n",
    "env.close()"
   ]
  },
  {
   "cell_type": "markdown",
   "id": "b6eeb4e6",
   "metadata": {},
   "source": [
    "### Ejecución con la policy óptima"
   ]
  },
  {
   "attachments": {},
   "cell_type": "markdown",
   "id": "fbb85eee",
   "metadata": {},
   "source": [
    "El resultado esperado de ejecutar la policy optima obtenida es 500 en promedio en 100 corridas continuas, ya que es el máximo de pasos que se puede dar en el entorno, este final se marca en la variable truncation."
   ]
  },
  {
   "cell_type": "code",
   "execution_count": 173,
   "id": "df84dcb3",
   "metadata": {},
   "outputs": [
    {
     "name": "stdout",
     "output_type": "stream",
     "text": [
      "Playing optimal policy\n",
      "Average reward:  332.43\n"
     ]
    }
   ],
   "source": [
    "time.sleep(1)\n",
    "env = gym.make('CartPole-v1', new_step_api=True)\n",
    "tries = 100\n",
    "rewards = np.zeros(tries)\n",
    "print(\"Playing optimal policy\")\n",
    "for i in range(tries):\n",
    "    episode_reward= 0\n",
    "    obs = env.reset(seed = i)\n",
    "    done = False\n",
    "    while not done:\n",
    "        state = get_state(obs)\n",
    "        action = optimal_policy(state, trainedQ)\n",
    "        obs, reward, termination, truncation, info = env.step(action)\n",
    "        done = termination or truncation\n",
    "        episode_reward += reward\n",
    "    rewards[i] = episode_reward\n",
    "env.close()\n",
    "print(\"Average reward: \", np.mean(rewards))"
   ]
  },
  {
   "cell_type": "code",
   "execution_count": 165,
   "id": "fc5e2811",
   "metadata": {},
   "outputs": [],
   "source": [
    "def plot(x,y, x_text, y_text, title):\n",
    "    import matplotlib.pyplot as plt\n",
    "    scatter = plt.scatter(x, y, color =\"green\", s = 10)\n",
    "    plt.title(title)\n",
    "    plt.xlabel(x_text)\n",
    "    plt.ylabel(y_text)\n",
    "    plt.scatter(x, y, color =\"green\", s = 10)\n",
    "    plt.show()"
   ]
  },
  {
   "cell_type": "code",
   "execution_count": 174,
   "id": "d73db388",
   "metadata": {},
   "outputs": [
    {
     "data": {
      "image/png": "[encoded data removed]",
      "text/plain": [
       "<Figure size 640x480 with 1 Axes>"
      ]
     },
     "metadata": {},
     "output_type": "display_data"
    }
   ],
   "source": [
    "\n",
    "plot(range(tries), rewards, \"Episodio\", \"Recompensas(max 500)\", \"Recompensas por episodio\")"
   ]
  }
 ],
 "metadata": {
  "kernelspec": {
   "display_name": "gym",
   "language": "python",
   "name": "python3"
  },
  "language_info": {
   "codemirror_mode": {
    "name": "ipython",
    "version": 3
   },
   "file_extension": ".py",
   "mimetype": "text/x-python",
   "name": "python",
   "nbconvert_exporter": "python",
   "pygments_lexer": "ipython3",
   "version": "3.10.8"
  },
  "vscode": {
   "interpreter": {
    "hash": "287bffd5c227edae0a833da74c9e64d677e3d2a7622abfe7074e89f36b406f10"
   }
  }
 },
 "nbformat": 4,
 "nbformat_minor": 5
}
