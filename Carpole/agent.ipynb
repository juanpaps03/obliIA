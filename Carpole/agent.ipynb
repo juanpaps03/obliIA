{
 "cells": [
  {
   "cell_type": "code",
   "execution_count": 1,
   "id": "5402845c",
   "metadata": {},
   "outputs": [],
   "source": [
    "#pip install gym\n",
    "import gym\n",
    "import time\n",
    "from random import randint"
   ]
  },
  {
   "cell_type": "markdown",
   "id": "e59be6be",
   "metadata": {},
   "source": [
    "# Cargo el entorno"
   ]
  },
  {
   "cell_type": "code",
   "execution_count": 2,
   "id": "404672b1",
   "metadata": {},
   "outputs": [],
   "source": [
    "env = gym.make('CartPole-v1', render_mode='human', new_step_api=True)"
   ]
  },
  {
   "cell_type": "markdown",
   "id": "f35fc85c",
   "metadata": {},
   "source": [
    "# Simulación"
   ]
  },
  {
   "cell_type": "code",
   "execution_count": 3,
   "id": "e1fea1d6",
   "metadata": {},
   "outputs": [],
   "source": [
    "\n",
    "for _ in range(10):\n",
    "    obs = env.reset()\n",
    "    done = False\n",
    "    while not done:\n",
    "        policy = randint(0,1)\n",
    "        obs, reward, done, info, _ = env.step(policy)\n",
    "        #print(obs)\n",
    "        env.render()\n",
    "        time.sleep(0.05)\n",
    "        if done:\n",
    "            env.reset()\n",
    "env.close()"
   ]
  }
 ],
 "metadata": {
  "kernelspec": {
   "display_name": "gym",
   "language": "python",
   "name": "python3"
  },
  "language_info": {
   "codemirror_mode": {
    "name": "ipython",
    "version": 3
   },
   "file_extension": ".py",
   "mimetype": "text/x-python",
   "name": "python",
   "nbconvert_exporter": "python",
   "pygments_lexer": "ipython3",
   "version": "3.10.8"
  },
  "vscode": {
   "interpreter": {
    "hash": "287bffd5c227edae0a833da74c9e64d677e3d2a7622abfe7074e89f36b406f10"
   }
  }
 },
 "nbformat": 4,
 "nbformat_minor": 5
}
