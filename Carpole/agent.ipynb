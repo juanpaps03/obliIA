{
 "cells": [
  {
   "cell_type": "code",
   "execution_count": 1,
   "id": "5402845c",
   "metadata": {},
   "outputs": [],
   "source": [
    "#pip install gym\n",
    "import gym\n",
    "import time\n",
    "from random import randint"
   ]
  },
  {
   "cell_type": "markdown",
   "id": "e59be6be",
   "metadata": {},
   "source": [
    "# Cargo el entorno"
   ]
  },
  {
   "cell_type": "code",
   "execution_count": 5,
   "id": "404672b1",
   "metadata": {},
   "outputs": [],
   "source": [
    "env = gym.make('CartPole-v1', render_mode='human')"
   ]
  },
  {
   "cell_type": "markdown",
   "id": "f35fc85c",
   "metadata": {},
   "source": [
    "# Simulación"
   ]
  },
  {
   "cell_type": "code",
   "execution_count": 6,
   "id": "e1fea1d6",
   "metadata": {},
   "outputs": [],
   "source": [
    "\n",
    "for _ in range(10):\n",
    "    obs,_ = env.reset()\n",
    "    done = False\n",
    "    while not done:\n",
    "        policy = randint(0,1)\n",
    "        obs, reward, done, info, _ = env.step(policy)\n",
    "        #print(obs)\n",
    "        env.render()\n",
    "        time.sleep(0.05)\n",
    "        if done:\n",
    "            env.reset()\n",
    "env.close()"
   ]
  },
  {
   "cell_type": "code",
   "execution_count": null,
   "id": "5d929e99",
   "metadata": {},
   "outputs": [],
   "source": []
  }
 ],
 "metadata": {
  "kernelspec": {
   "display_name": "Python 3.10.8 ('.venv': poetry)",
   "language": "python",
   "name": "python3"
  },
  "language_info": {
   "codemirror_mode": {
    "name": "ipython",
    "version": 3
   },
   "file_extension": ".py",
   "mimetype": "text/x-python",
   "name": "python",
   "nbconvert_exporter": "python",
   "pygments_lexer": "ipython3",
   "version": "3.10.8"
  },
  "vscode": {
   "interpreter": {
    "hash": "ea51eab9f9f6e6be62ba796280d46b2037c0331f6513bc8fa5a97d9c11036a4f"
   }
  }
 },
 "nbformat": 4,
 "nbformat_minor": 5
}
